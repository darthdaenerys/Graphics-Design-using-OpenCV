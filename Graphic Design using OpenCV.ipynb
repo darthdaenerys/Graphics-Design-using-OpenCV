{
 "cells": [
  {
   "cell_type": "code",
   "execution_count": 1,
   "id": "f674dec6",
   "metadata": {},
   "outputs": [],
   "source": [
    "# import modules and libraries\n",
    "import cv2\n",
    "import numpy as np\n",
    "\n",
    "# Window Property\n",
    "cv2.namedWindow('My Graphic',cv2.WINDOW_NORMAL)\n",
    "cv2.setWindowProperty('My Graphic',cv2.WND_PROP_FULLSCREEN,cv2.WINDOW_FULLSCREEN)\n",
    "\n",
    "# background\n",
    "img=np.zeros((720,1280,3),dtype=np.uint8)\n",
    "\n",
    "# blue sky\n",
    "cv2.rectangle(img,(0,0),(1280,540),(255,255,85),-1)\n",
    "\n",
    "# ground\n",
    "cv2.rectangle(img,(0,540),(1280,720),(75,180,70),-1)\n",
    "\n",
    "# Sun\n",
    "cv2.circle(img,(300,200),65,(0,255,255),-1)\n",
    "cv2.circle(img,(300,200),80,(200,255,255),5)\n",
    "\n",
    "# tree trunk\n",
    "cv2.line(img,(990,580),(990,420),(30,65,155),27)\n",
    "cv2.line(img,(1090,560),(1090,440),(30,50,140),20)\n",
    "\n",
    "# text\n",
    "cv2.putText(img,'OpenCV - Python',(10,700),cv2.FONT_HERSHEY_DUPLEX,1,(255,255,255),2)\n",
    "\n",
    "# leaves\n",
    "traingle2=np.array([[1020,500],[1160,500],[1090,220]],dtype=np.int32)\n",
    "cv2.fillPoly(img,[traingle2],(75,170,70))\n",
    "traingle=np.array([[870,480],[1110,480],[990,100]],dtype=np.int32)\n",
    "cv2.fillPoly(img,[traingle],(75,200,70))\n",
    "\n",
    "# Displaying the frame\n",
    "cv2.imshow('My Graphic',img)\n",
    "cv2.waitKey(0)\n",
    "cv2.imwrite('My Graphic.png', img)\n",
    "cv2.destroyAllWindows()"
   ]
  },
  {
   "cell_type": "code",
   "execution_count": null,
   "id": "36282592",
   "metadata": {},
   "outputs": [],
   "source": []
  }
 ],
 "metadata": {
  "kernelspec": {
   "display_name": "Python 3 (ipykernel)",
   "language": "python",
   "name": "python3"
  },
  "language_info": {
   "codemirror_mode": {
    "name": "ipython",
    "version": 3
   },
   "file_extension": ".py",
   "mimetype": "text/x-python",
   "name": "python",
   "nbconvert_exporter": "python",
   "pygments_lexer": "ipython3",
   "version": "3.9.7"
  }
 },
 "nbformat": 4,
 "nbformat_minor": 5
}
